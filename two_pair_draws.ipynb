{
 "cells": [
  {
   "cell_type": "markdown",
   "metadata": {},
   "source": [
    "balatro argument: how many cards should you discard in a given hand to maximize the chance of getting a two pair???"
   ]
  },
  {
   "cell_type": "code",
   "execution_count": 7,
   "metadata": {},
   "outputs": [],
   "source": [
    "from random import randint\n",
    "import matplotlib.pyplot as plt\n",
    "from collections import Counter"
   ]
  },
  {
   "cell_type": "code",
   "execution_count": 8,
   "metadata": {},
   "outputs": [],
   "source": [
    "def choose_n_from_deck(n, deck):\n",
    "    res = []\n",
    "    for _ in range(n):\n",
    "        cards = []\n",
    "        for i in range(1, 14):\n",
    "            cards.extend([i] * deck.get(i, 0))\n",
    "        i = randint(0, len(cards) - 1)\n",
    "        res.append(cards[i])\n",
    "        deck[cards[i]] -= 1\n",
    "    return sorted(res)"
   ]
  },
  {
   "cell_type": "code",
   "execution_count": 9,
   "metadata": {},
   "outputs": [],
   "source": [
    "def remove_hand_from_deck(hand, deck):\n",
    "    for n in hand:\n",
    "        if n not in deck or deck[n] == 0:\n",
    "            raise IndexError(\"hand isn't a subset of deck\")\n",
    "        deck[n] -= 1\n",
    "\n",
    "def has_double(hand):\n",
    "    return not len(hand) == len(set(hand))\n",
    "\n",
    "def has_2_doubles(hand):\n",
    "    c = Counter(hand)\n",
    "    res = 0\n",
    "    for v in c.values():\n",
    "        if v > 1:\n",
    "            res += 1\n",
    "    return res > 1"
   ]
  },
  {
   "cell_type": "code",
   "execution_count": 10,
   "metadata": {},
   "outputs": [
    {
     "name": "stdout",
     "output_type": "stream",
     "text": [
      "discarding 2 in 9 hand >=2-pair probability:\n",
      "0.62018\n",
      "discarding 3 in 9 hand >=2-pair probability:\n",
      "0.72088\n",
      "discarding 4 in 9 hand >=2-pair probability:\n",
      "0.77486\n",
      "discarding 5 in 9 hand >=2-pair probability:\n",
      "0.79579\n",
      "discarding 6 in 9 hand >=2-pair probability:\n",
      "0.79506\n",
      "discarding 7 in 9 hand >=2-pair probability:\n",
      "0.77084\n"
     ]
    }
   ],
   "source": [
    "standard_deck = {i:4 for i in range(1, 14)}\n",
    "\n",
    "def calculate_prob_with_2_pair_discard_n(n, hand_size, N):\n",
    "    # generate held hand\n",
    "    hand = [1, 1]\n",
    "    for i in range((hand_size - n) - 2):\n",
    "        hand.append(i + 2)\n",
    "        \n",
    "    pairs = 0\n",
    "    for _ in range(N):\n",
    "        deck = standard_deck.copy()\n",
    "        # remove current hand from drawing deck\n",
    "        remove_hand_from_deck(hand, deck)\n",
    "        # remove generated discard elements from drawing deck\n",
    "        remove_hand_from_deck([i for i in range(hand[-1] + 1, hand[-1] + n + 1)], deck)\n",
    "        # choose n replacement cards\n",
    "        res = choose_n_from_deck(n, deck)\n",
    "        \n",
    "        # check if we formed a new pair or not\n",
    "        new_hand = hand + res\n",
    "        if has_2_doubles(new_hand):\n",
    "            pairs += 1\n",
    "    print(pairs / N)\n",
    "\n",
    "N = 100000\n",
    "hand_size = 9\n",
    "for i in range(2, hand_size - 1):\n",
    "    print(f\"discarding {i} in {hand_size} hand >=2-pair probability:\")\n",
    "    calculate_prob_with_2_pair_discard_n(i, hand_size, N)"
   ]
  },
  {
   "cell_type": "code",
   "execution_count": 11,
   "metadata": {},
   "outputs": [
    {
     "name": "stdout",
     "output_type": "stream",
     "text": [
      "discarding 2 in 9 hand >=pair probability:\n",
      "0.61911\n",
      "discarding 3 in 9 hand >=pair probability:\n",
      "0.72482\n",
      "discarding 4 in 9 hand >=pair probability:\n",
      "0.77517\n",
      "discarding 5 in 9 hand >=pair probability:\n",
      "0.7978\n",
      "discarding 6 in 9 hand >=pair probability:\n",
      "0.79608\n",
      "discarding 7 in 9 hand >=pair probability:\n",
      "0.76902\n"
     ]
    }
   ],
   "source": [
    "standard_deck = {i:4 for i in range(1, 14)}\n",
    "\n",
    "def calculate_prob_with_1_pair_discard_n(n, hand_size, N):\n",
    "    # generate held hand\n",
    "    hand = [1, 2]\n",
    "    for i in range((hand_size - n) - 2):\n",
    "        hand.append(i + 3)\n",
    "        \n",
    "    pairs = 0\n",
    "    for _ in range(N):\n",
    "        deck = standard_deck.copy()\n",
    "        # remove current hand from drawing deck\n",
    "        remove_hand_from_deck(hand, deck)\n",
    "        # remove generated discard elements from drawing deck\n",
    "        remove_hand_from_deck([i for i in range(hand[-1] + 1, hand[-1] + n + 1)], deck)\n",
    "        # choose n replacement cards\n",
    "        res = choose_n_from_deck(n, deck)\n",
    "        \n",
    "        # check if we formed a new pair or not\n",
    "        new_hand = hand + res\n",
    "        if has_double(new_hand):\n",
    "            pairs += 1\n",
    "    print(pairs / N)\n",
    "\n",
    "N = 100000\n",
    "hand_size = 9\n",
    "for i in range(2, hand_size - 1):\n",
    "    print(f\"discarding {i} in {hand_size} hand >=pair probability:\")\n",
    "    calculate_prob_with_2_pair_discard_n(i, hand_size, N)"
   ]
  }
 ],
 "metadata": {
  "kernelspec": {
   "display_name": "Python 3",
   "language": "python",
   "name": "python3"
  },
  "language_info": {
   "codemirror_mode": {
    "name": "ipython",
    "version": 3
   },
   "file_extension": ".py",
   "mimetype": "text/x-python",
   "name": "python",
   "nbconvert_exporter": "python",
   "pygments_lexer": "ipython3",
   "version": "3.10.12"
  }
 },
 "nbformat": 4,
 "nbformat_minor": 2
}

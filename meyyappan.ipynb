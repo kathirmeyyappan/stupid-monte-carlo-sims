{
 "cells": [
  {
   "cell_type": "markdown",
   "id": "46ba31f4",
   "metadata": {},
   "source": [
    "Problem: There exists a particular culture where a son's last name is his father's first name. In one particular family, the first son is always named Meyyappan, and the second son is always named Thenappan.\n",
    "\n",
    "Take a man, named Meyyappan, and the following 4 generations. Each man will have some number of children defined by a mean of 3 and standard deviation of 1. What is the expected number of people in this lineage named Thenappan Thenappan? \n",
    "\n",
    "(note to mf Sriram: the 3rd, 4th, 5th child naming convention is irrelevant to this problem because of the desired state so the result is the same while being lore accurate)"
   ]
  },
  {
   "cell_type": "code",
   "execution_count": 13,
   "id": "c413d1c3",
   "metadata": {},
   "outputs": [],
   "source": [
    "import numpy as np\n",
    "\n",
    "NUM_GENS = 4"
   ]
  },
  {
   "cell_type": "code",
   "execution_count": 17,
   "id": "51c7d479",
   "metadata": {},
   "outputs": [
    {
     "data": {
      "text/plain": [
       "11.32346"
      ]
     },
     "execution_count": 17,
     "metadata": {},
     "output_type": "execute_result"
    }
   ],
   "source": [
    "def get_num_children():\n",
    "    # Note to the other attempt at solving this:\n",
    "    #   You can't use int because of flooring (e.g. 2/99 gets floored to 0). \n",
    "    #   The resulting distribution is not normal around 3 with std 1.\n",
    "    #   You also need to clip negative results at 0 or else it will negative index your list (in the other implementation at least)\n",
    "    return max(round(np.random.normal(3, 1)), 0) \n",
    "\n",
    "def sim_thens():\n",
    "    gen = [(0, 0)]\n",
    "    num_thens = 0\n",
    "    for _ in range(NUM_GENS):\n",
    "        new_gen = []\n",
    "        for pname, _ in gen:\n",
    "            new_gen.extend((cname, pname) for cname in range(get_num_children()))\n",
    "        num_thens += new_gen.count((1, 1))\n",
    "        gen = new_gen\n",
    "    return num_thens\n",
    "\n",
    "num_trials = 10**5\n",
    "tot_num_thens = 0\n",
    "for _ in range(num_trials):\n",
    "    tot_num_thens += sim_thens()\n",
    "tot_num_thens / num_trials"
   ]
  }
 ],
 "metadata": {
  "kernelspec": {
   "display_name": "Python 3",
   "language": "python",
   "name": "python3"
  },
  "language_info": {
   "codemirror_mode": {
    "name": "ipython",
    "version": 3
   },
   "file_extension": ".py",
   "mimetype": "text/x-python",
   "name": "python",
   "nbconvert_exporter": "python",
   "pygments_lexer": "ipython3",
   "version": "3.10.12"
  }
 },
 "nbformat": 4,
 "nbformat_minor": 5
}

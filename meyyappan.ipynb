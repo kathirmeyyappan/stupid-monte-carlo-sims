{
 "cells": [
  {
   "cell_type": "markdown",
   "id": "46ba31f4",
   "metadata": {},
   "source": [
    "**Problem**: There exists a particular culture where a son's last name is his father's first name. In one particular family, the first son is always named Meyyappan, and the second son is always named Thenappan. Take a man, named Meyyappan, and the following 4 generations. Each man will have some number of children defined by a mean of 3 and standard deviation of 1. \n",
    "\n",
    "What is the expected number of people in this lineage with the following names?\n",
    "\n",
    "- Meyyappan Meyyappan\n",
    "- Meyyappan Thenappan\n",
    "- Thenappan Meyyappan\n",
    "- Thenappan Thenappan"
   ]
  },
  {
   "cell_type": "code",
   "execution_count": 3,
   "id": "c413d1c3",
   "metadata": {},
   "outputs": [],
   "source": [
    "import numpy as np"
   ]
  },
  {
   "cell_type": "code",
   "execution_count": null,
   "id": "51c7d479",
   "metadata": {},
   "outputs": [
    {
     "name": "stdout",
     "output_type": "stream",
     "text": [
      "Expected number of Meyyappan Meyyappans: 14.836496\n",
      "Expected number of Meyyappan Thenappans: 12.059516\n",
      "Expected number of Thenappan Meyyappans: 12.992202\n",
      "Expected number of Thenappan Thenappans: 11.325112\n"
     ]
    }
   ],
   "source": [
    "def get_num_children():\n",
    "    return max(round(np.random.normal(3, 1)), 0) \n",
    "\n",
    "def sim_gens(num_gens, progenitor):\n",
    "    gen = [progenitor] # first gen Meyyappan Meyyappan\n",
    "    \n",
    "    num_meyps_meyps = num_meyps_thens = num_thens_meyps = num_thens_thens = 0\n",
    "    num_meyps_meyps += gen.count((0, 0))\n",
    "    num_meyps_thens += gen.count((0, 1))\n",
    "    num_thens_meyps += gen.count((1, 0))\n",
    "    num_thens_thens += gen.count((1, 1))\n",
    "    \n",
    "    for _ in range(num_gens):\n",
    "        new_gen = []\n",
    "        for pname, _ in gen:\n",
    "            new_gen.extend((cname, pname) for cname in range(get_num_children()))\n",
    "        num_meyps_meyps += new_gen.count((0, 0))\n",
    "        num_meyps_thens += new_gen.count((0, 1))\n",
    "        num_thens_meyps += new_gen.count((1, 0))\n",
    "        num_thens_thens += new_gen.count((1, 1))\n",
    "        gen = new_gen\n",
    "    return (num_meyps_meyps, num_meyps_thens, num_thens_meyps, num_thens_thens)\n",
    "\n",
    "# simulate number of each expected name 4 generations after (0, 0) Meyyappan Meyyappan\n",
    "num_trials = int(5e5)\n",
    "tot_num_meyps_meyps = 0\n",
    "tot_num_meyps_thens = 0\n",
    "tot_num_thens_meyps = 0\n",
    "tot_num_thens_thens = 0\n",
    "progenitor = (0, 0)\n",
    "for _ in range(num_trials):\n",
    "    num_meyps_meyps, num_meyps_thens, num_thens_meyps, num_thens_thens = sim_gens(4, progenitor)\n",
    "    tot_num_meyps_meyps += num_meyps_meyps\n",
    "    tot_num_meyps_thens += num_meyps_thens\n",
    "    tot_num_thens_meyps += num_thens_meyps\n",
    "    tot_num_thens_thens += num_thens_thens\n",
    "\n",
    "print(\n",
    "    f\"Expected number of Meyyappan Meyyappans: {tot_num_meyps_meyps / num_trials}\\n\"\n",
    "    f\"Expected number of Meyyappan Thenappans: {tot_num_meyps_thens / num_trials}\\n\"\n",
    "    f\"Expected number of Thenappan Meyyappans: {tot_num_thens_meyps / num_trials}\\n\"\n",
    "    f\"Expected number of Thenappan Thenappans: {tot_num_thens_thens / num_trials}\"\n",
    ")"
   ]
  }
 ],
 "metadata": {
  "kernelspec": {
   "display_name": "Python 3",
   "language": "python",
   "name": "python3"
  },
  "language_info": {
   "codemirror_mode": {
    "name": "ipython",
    "version": 3
   },
   "file_extension": ".py",
   "mimetype": "text/x-python",
   "name": "python",
   "nbconvert_exporter": "python",
   "pygments_lexer": "ipython3",
   "version": "3.10.12"
  }
 },
 "nbformat": 4,
 "nbformat_minor": 5
}
